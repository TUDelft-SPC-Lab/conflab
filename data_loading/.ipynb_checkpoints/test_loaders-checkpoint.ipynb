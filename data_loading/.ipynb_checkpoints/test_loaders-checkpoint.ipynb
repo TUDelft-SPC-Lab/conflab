{
 "cells": [
  {
   "cell_type": "code",
   "execution_count": 1,
   "metadata": {
    "is_executing": true
   },
   "source": [
    "# %load_ext autoreload\n",
    "# %autoreload 2\n",
    "import conflab"
   ],
   "outputs": []
  },
  {
   "cell_type": "code",
   "execution_count": 1,
   "metadata": {
    "is_executing": true
   },
   "source": [
    "from conflab.data_loading.pose import ConflabPoseExtractor, ConflabToKinetics\n",
    "from conflab.data_loading.accel import ConflabAccelExtractor\n",
    "from conflab.data_loading.person import ConflabDataset\n",
    "from conflab.constants import processed_pose_path, processed_wearables_path"
   ],
   "outputs": []
  },
  {
   "cell_type": "code",
   "execution_count": 5,
   "metadata": {},
   "source": [
    "pose_extractor = ConflabPoseExtractor(processed_pose_path)"
   ],
   "outputs": []
  },
  {
   "cell_type": "code",
   "execution_count": 11,
   "metadata": {},
   "source": [
    "accel_extractor = ConflabAccelExtractor(processed_wearables_path)"
   ],
   "outputs": []
  },
  {
   "cell_type": "code",
   "execution_count": 12,
   "metadata": {},
   "source": [
    "# make windowed examples using the pose tracks.\n",
    "examples = pose_extractor.make_examples()"
   ],
   "outputs": []
  },
  {
   "cell_type": "code",
   "execution_count": 14,
   "metadata": {},
   "source": [
    "# compose the multimodal dataset\n",
    "ds = ConflabDataset(examples, {\n",
    "    'pose': pose_extractor,\n",
    "    'accel': accel_extractor\n",
    "}, transform=ConflabToKinetics())"
   ],
   "outputs": []
  },
  {
   "cell_type": "code",
   "execution_count": 16,
   "metadata": {},
   "source": [
    "(ds[0]['accel'].shape, ds[0]['pose'].shape)"
   ],
   "outputs": []
  },
  {
   "cell_type": "code",
   "execution_count": null,
   "metadata": {},
   "source": [],
   "outputs": []
  }
 ],
 "metadata": {
  "interpreter": {
   "hash": "916dbcbb3f70747c44a77c7bcd40155683ae19c65e1c03b4aa3499c5328201f1"
  },
  "kernelspec": {
   "display_name": "Python 3 (ipykernel)",
   "language": "python",
   "name": "python3"
  },
  "language_info": {
   "codemirror_mode": {
    "name": "ipython",
    "version": 3
   },
   "file_extension": ".py",
   "mimetype": "text/x-python",
   "name": "python",
   "nbconvert_exporter": "python",
   "pygments_lexer": "ipython3",
   "version": "3.9.18"
  }
 },
 "nbformat": 4,
 "nbformat_minor": 4
}
