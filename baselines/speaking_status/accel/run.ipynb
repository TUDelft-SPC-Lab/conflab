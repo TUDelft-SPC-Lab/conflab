{
 "cells": [
  {
   "cell_type": "code",
   "execution_count": 1,
   "metadata": {},
   "outputs": [],
   "source": [
    "import os"
   ]
  },
  {
   "cell_type": "code",
   "execution_count": 2,
   "metadata": {},
   "outputs": [],
   "source": [
    "import torch\n",
    "from torch.utils.data import Subset\n",
    "import pytorch_lightning as pl\n",
    "from tqdm.notebook import trange\n",
    "from pytorch_lightning.callbacks.early_stopping import EarlyStopping\n",
    "from IPython.display import clear_output\n",
    "from sklearn.model_selection import KFold\n",
    "from sklearn.metrics import roc_auc_score"
   ]
  },
  {
   "cell_type": "code",
   "execution_count": 3,
   "metadata": {},
   "outputs": [],
   "source": [
    "from system import System\n",
    "from conflab.data_loaders.pose import ConflabPoseExtractor\n",
    "from conflab.data_loaders.accel import ConflabAccelExtractor\n",
    "from conflab.data_loaders.person import ConflabMultimodalDataset, ConflabLabelExtractor\n",
    "from conflab.constants import conflab_pose_path, midge_data_path, conflab_speaking_status_path\n",
    "from conflab.constants import vid2_start, vid3_start"
   ]
  },
  {
   "cell_type": "code",
   "execution_count": 4,
   "metadata": {},
   "outputs": [],
   "source": [
    "from datetime import timedelta"
   ]
  },
  {
   "cell_type": "code",
   "execution_count": 5,
   "metadata": {},
   "outputs": [],
   "source": [
    "vid2_seg8_start = vid2_start + timedelta(minutes=14)\n",
    "vid2_len = (vid3_start - vid2_seg8_start).total_seconds()"
   ]
  },
  {
   "cell_type": "code",
   "execution_count": 6,
   "metadata": {},
   "outputs": [
    {
     "data": {
      "text/plain": [
       "217.0"
      ]
     },
     "execution_count": 6,
     "metadata": {},
     "output_type": "execute_result"
    }
   ],
   "source": [
    "vid2_len"
   ]
  },
  {
   "cell_type": "code",
   "execution_count": 7,
   "metadata": {},
   "outputs": [],
   "source": [
    "def do_fold(train_ds, test_ds, model_name='resnet', deterministic=False):\n",
    "    # data loaders\n",
    "    data_loader_train = torch.utils.data.DataLoader(\n",
    "        train_ds, batch_size=100, shuffle=True, num_workers=10,\n",
    "        collate_fn=None)\n",
    "    data_loader_val = torch.utils.data.DataLoader(\n",
    "        test_ds, batch_size=100, shuffle=False, num_workers=10,\n",
    "        collate_fn=None)\n",
    "\n",
    "    system = System(model_name)\n",
    "    trainer = pl.Trainer(\n",
    "        callbacks=[EarlyStopping(monitor=\"val_loss\", mode=\"min\")],\n",
    "        accelerator='gpu',\n",
    "        log_every_n_steps=1,\n",
    "        max_epochs=-1,\n",
    "        deterministic=deterministic)\n",
    "    trainer.fit(system, data_loader_train, data_loader_val)\n",
    "\n",
    "    trainer.test(system, data_loader_val)\n",
    "    return system.test_results"
   ]
  },
  {
   "cell_type": "code",
   "execution_count": 8,
   "metadata": {},
   "outputs": [],
   "source": [
    "def get_metrics(outputs, labels, type='binary'):\n",
    "    if type == 'binary':\n",
    "        proba = torch.sigmoid(outputs)\n",
    "        pred = (proba > 0.5)\n",
    "\n",
    "        correct = pred.eq(outputs.bool()).sum().item()\n",
    "        return {\n",
    "            'auc': roc_auc_score(labels, proba),\n",
    "            'correct': correct\n",
    "        }\n",
    "    elif type == 'regression':\n",
    "        return {\n",
    "            'mse': torch.nn.functional.mse_loss(outputs, labels, reduction='mean'),\n",
    "            'l1': torch.nn.functional.l1_loss(outputs, labels, reduction='mean')\n",
    "        }"
   ]
  },
  {
   "cell_type": "code",
   "execution_count": 9,
   "metadata": {},
   "outputs": [],
   "source": [
    "def do_run(dataset, model_name, random_state, metrics_name='binary', deterministic=False):\n",
    "    cv_splits = KFold(n_splits=4, random_state=random_state, shuffle=True).split(range(len(ds)))\n",
    "\n",
    "    outputs = torch.empty((len(ds),))\n",
    "    for f, (train_idx, test_idx) in enumerate(cv_splits):\n",
    "        # create datasets    \n",
    "        train_ds = Subset(dataset, train_idx)\n",
    "        test_ds = Subset(dataset, test_idx)\n",
    "\n",
    "        fold_outputs = do_fold(train_ds, test_ds, model_name, deterministic=deterministic)\n",
    "        outputs[test_idx] = fold_outputs['proba'].cpu()\n",
    "        clear_output(wait=True)\n",
    "\n",
    "    labels = torch.Tensor(ds.get_all_labels())\n",
    "    run_metrics = get_metrics(outputs, labels, metrics_name)\n",
    "\n",
    "    return outputs, run_metrics"
   ]
  },
  {
   "cell_type": "code",
   "execution_count": 10,
   "metadata": {},
   "outputs": [],
   "source": [
    "pose_extractor = ConflabPoseExtractor(conflab_pose_path)\n",
    "pose_extractor.load_from_pickle('./tracks.pkl')"
   ]
  },
  {
   "cell_type": "code",
   "execution_count": 11,
   "metadata": {},
   "outputs": [],
   "source": [
    "accel_extractor = ConflabAccelExtractor(midge_data_path)\n",
    "label_extractor = ConflabLabelExtractor(os.path.join(conflab_speaking_status_path, 'speaking'))"
   ]
  },
  {
   "cell_type": "code",
   "execution_count": 12,
   "metadata": {},
   "outputs": [
    {
     "name": "stderr",
     "output_type": "stream",
     "text": [
      "100%|██████████| 8/8 [00:00<00:00, 544.04it/s]\n"
     ]
    }
   ],
   "source": [
    "# make windowed examples using the pose tracks.\n",
    "examples = pose_extractor.make_examples()\n",
    "# compose the dataset\n",
    "ds = ConflabMultimodalDataset(examples, {\n",
    "    'accel': accel_extractor,\n",
    "    'label': label_extractor\n",
    "})"
   ]
  },
  {
   "cell_type": "code",
   "execution_count": 13,
   "metadata": {},
   "outputs": [
    {
     "name": "stderr",
     "output_type": "stream",
     "text": [
      "/tmp/ipykernel_11409/3932737108.py:14: DeprecationWarning: In future, it will be an error for 'np.bool_' scalars to be interpreted as an index\n",
      "  labels = torch.Tensor(ds.get_all_labels())\n"
     ]
    }
   ],
   "source": [
    "seed=22\n",
    "pl.utilities.seed.seed_everything(seed, workers=True)\n",
    "outputs, metrics = do_run(ds, 'alexnet', random_state=seed, metrics_name='binary', deterministic=True)"
   ]
  },
  {
   "cell_type": "code",
   "execution_count": null,
   "metadata": {},
   "outputs": [],
   "source": []
  }
 ],
 "metadata": {
  "interpreter": {
   "hash": "916dbcbb3f70747c44a77c7bcd40155683ae19c65e1c03b4aa3499c5328201f1"
  },
  "kernelspec": {
   "display_name": "Python 3.8.10 64-bit",
   "language": "python",
   "name": "python3"
  },
  "language_info": {
   "codemirror_mode": {
    "name": "ipython",
    "version": 3
   },
   "file_extension": ".py",
   "mimetype": "text/x-python",
   "name": "python",
   "nbconvert_exporter": "python",
   "pygments_lexer": "ipython3",
   "version": "3.8.10"
  },
  "orig_nbformat": 4
 },
 "nbformat": 4,
 "nbformat_minor": 2
}
