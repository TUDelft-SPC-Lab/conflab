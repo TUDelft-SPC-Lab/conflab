{
 "cells": [
  {
   "cell_type": "code",
   "execution_count": 9,
   "metadata": {},
   "outputs": [],
   "source": [
    "import os\n",
    "import pickle"
   ]
  },
  {
   "cell_type": "code",
   "execution_count": 10,
   "metadata": {},
   "outputs": [],
   "source": [
    "import torch\n",
    "import numpy as np\n",
    "import pandas as pd\n",
    "from sklearn.metrics import roc_auc_score\n",
    "from sklearn.model_selection import KFold\n",
    "from sklearn.linear_model import LogisticRegression"
   ]
  },
  {
   "cell_type": "code",
   "execution_count": 11,
   "metadata": {},
   "outputs": [],
   "source": [
    "from conflab.data_loading.pose import ConflabPoseExtractor, ConflabToKinetics\n",
    "from conflab.data_loading.labels import ConflabLabelExtractor\n",
    "from conflab.data_loading.person import ConflabDataset, ConflabSubset\n",
    "from conflab.constants import processed_pose_path, processed_ss_path"
   ]
  },
  {
   "cell_type": "code",
   "execution_count": 47,
   "metadata": {},
   "outputs": [],
   "source": [
    "accel_proba = pd.read_csv('../accel/outputs/minirocket_accel.csv', header=None).to_numpy()\n",
    "pose_logits = pickle.load(open('../pose/outputs/scores_5e.pkl', 'rb'))"
   ]
  },
  {
   "cell_type": "code",
   "execution_count": 48,
   "metadata": {},
   "outputs": [
    {
     "data": {
      "text/plain": [
       "((42882, 1), (42882, 2))"
      ]
     },
     "execution_count": 48,
     "metadata": {},
     "output_type": "execute_result"
    }
   ],
   "source": [
    "(accel_proba.shape, pose_logits.shape)"
   ]
  },
  {
   "cell_type": "code",
   "execution_count": 38,
   "metadata": {},
   "outputs": [],
   "source": [
    "pose_extractor = ConflabPoseExtractor(processed_pose_path)\n",
    "pose_extractor.load_from_pickle('../tracks.pkl')\n",
    "label_extractor = ConflabLabelExtractor(os.path.join(processed_ss_path, 'speaking'))"
   ]
  },
  {
   "cell_type": "code",
   "execution_count": 39,
   "metadata": {},
   "outputs": [
    {
     "name": "stderr",
     "output_type": "stream",
     "text": [
      "100%|██████████| 8/8 [00:00<00:00, 505.85it/s]\n"
     ]
    }
   ],
   "source": [
    "# make windowed examples using the pose tracks.\n",
    "examples = pose_extractor.make_examples()\n",
    "# compose the dataset\n",
    "dataset = ConflabDataset(examples, {\n",
    "    'pose': pose_extractor,\n",
    "    'label': label_extractor\n",
    "}, transform=ConflabToKinetics())"
   ]
  },
  {
   "cell_type": "code",
   "execution_count": 40,
   "metadata": {},
   "outputs": [],
   "source": [
    "labels = dataset.get_all_labels()"
   ]
  },
  {
   "cell_type": "code",
   "execution_count": 41,
   "metadata": {},
   "outputs": [
    {
     "data": {
      "text/plain": [
       "0.8127529000170967"
      ]
     },
     "execution_count": 41,
     "metadata": {},
     "output_type": "execute_result"
    }
   ],
   "source": [
    "# sanity check AUCS\n",
    "roc_auc_score(labels, accel_proba)"
   ]
  },
  {
   "cell_type": "code",
   "execution_count": 42,
   "metadata": {},
   "outputs": [
    {
     "data": {
      "text/plain": [
       "0.6243771358652327"
      ]
     },
     "execution_count": 42,
     "metadata": {},
     "output_type": "execute_result"
    }
   ],
   "source": [
    "# sanity check AUCS\n",
    "roc_auc_score(labels, pose_logits[:,1])"
   ]
  },
  {
   "cell_type": "code",
   "execution_count": 51,
   "metadata": {},
   "outputs": [],
   "source": []
  },
  {
   "cell_type": "markdown",
   "metadata": {},
   "source": [
    "### Late fusion\n",
    "This code performs score level fusion on the outputs of pose and accel classifiers\n",
    "\n",
    "We reproduce the same folds as for the independent accel and pose models"
   ]
  },
  {
   "cell_type": "code",
   "execution_count": 57,
   "metadata": {},
   "outputs": [],
   "source": [
    "def do_run(X, Y, random_state):\n",
    "    pids = set(dataset.get_groups())\n",
    "    pid_splits = KFold(n_splits=10, random_state=random_state, shuffle=True).split(range(len(pids)))\n",
    "    aucs = []\n",
    "    accs = []\n",
    "    for f, (train_pids, test_pids) in enumerate(pid_splits):\n",
    "        train_idx = [i for i, e in enumerate(dataset.examples) if e[0] in train_pids]\n",
    "        test_idx = [i for i, e in enumerate(dataset.examples) if e[0] in test_pids]\n",
    "\n",
    "        X_train = X[train_idx, :]\n",
    "        Y_train = Y[train_idx]\n",
    "\n",
    "        X_test = X[test_idx, :]\n",
    "        Y_test = Y[test_idx]\n",
    "\n",
    "        lr = LogisticRegression(C=1000000000).fit(X_train, Y_train)\n",
    "        proba = lr.predict_proba(X_test)\n",
    "        pred = (proba[:,1] > 0.5).astype(int)\n",
    "\n",
    "        fold_acc = (pred == Y_test).sum() / len(Y_test)\n",
    "        fold_auc = roc_auc_score(Y_test, proba[:,1])\n",
    "        aucs.append(fold_auc)\n",
    "        accs.append(fold_acc)\n",
    "    return np.mean(aucs), np.mean(accs)"
   ]
  },
  {
   "cell_type": "code",
   "execution_count": 58,
   "metadata": {},
   "outputs": [
    {
     "data": {
      "text/plain": [
       "(0.6761154577391613, 0.7058173135458581)"
      ]
     },
     "execution_count": 58,
     "metadata": {},
     "output_type": "execute_result"
    }
   ],
   "source": [
    "# pose-only score (for verification)\n",
    "# auc should be the same as measured for pose model\n",
    "X = pose_logits[:,1][:,None]\n",
    "Y = labels\n",
    "do_run(X,Y,random_state=22)"
   ]
  },
  {
   "cell_type": "code",
   "execution_count": 59,
   "metadata": {},
   "outputs": [
    {
     "data": {
      "text/plain": [
       "(0.8233193271768162, 0.7748303737119817)"
      ]
     },
     "execution_count": 59,
     "metadata": {},
     "output_type": "execute_result"
    }
   ],
   "source": [
    "# fusion score\n",
    "X = np.hstack([accel_proba, pose_logits[:,1][:,None]])\n",
    "Y = labels\n",
    "do_run(X,Y,random_state=22)"
   ]
  },
  {
   "cell_type": "code",
   "execution_count": null,
   "metadata": {},
   "outputs": [],
   "source": []
  }
 ],
 "metadata": {
  "interpreter": {
   "hash": "7ff63645dd16f55240e07095d3c46f4fac3f89ef16802cfaceca713f6cf38dfb"
  },
  "kernelspec": {
   "display_name": "Python 3.8.13 ('base')",
   "language": "python",
   "name": "python3"
  },
  "language_info": {
   "codemirror_mode": {
    "name": "ipython",
    "version": 3
   },
   "file_extension": ".py",
   "mimetype": "text/x-python",
   "name": "python",
   "nbconvert_exporter": "python",
   "pygments_lexer": "ipython3",
   "version": "3.8.13"
  },
  "orig_nbformat": 4
 },
 "nbformat": 4,
 "nbformat_minor": 2
}
