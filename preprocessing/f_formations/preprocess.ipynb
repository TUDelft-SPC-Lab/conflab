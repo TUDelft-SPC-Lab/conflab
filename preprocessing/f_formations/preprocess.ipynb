{
 "cells": [
  {
   "cell_type": "code",
   "execution_count": 1,
   "metadata": {},
   "outputs": [],
   "source": [
    "import os\n",
    "import re\n",
    "from pathlib import Path\n",
    "\n",
    "import pandas as pd"
   ]
  },
  {
   "cell_type": "code",
   "execution_count": 2,
   "metadata": {},
   "outputs": [],
   "source": [
    "from conflab.constants import (\n",
    "    ff_raw_data_path, \n",
    "    ff_processed_data_path,\n",
    "    vid3_offset_from_vid2)"
   ]
  },
  {
   "cell_type": "code",
   "execution_count": 3,
   "metadata": {},
   "outputs": [],
   "source": [
    "s = '(<4,33>,cam2)(<9,26,27>,cam2)(<7,34>,cam2)(<8,10>,cam4)(<35,19,12>,cam4)(<21,13>,cam4)(<18,29,14,16>,cam4)(<6>,cam4)(<22,11>,cam6)(<32,15,17,2>,cam6)(<3,20>, cam6)(<23,25,28,24>,cam8)(<31,5>,cam8)(<30,1>,cam8)'"
   ]
  },
  {
   "cell_type": "code",
   "execution_count": 4,
   "metadata": {},
   "outputs": [
    {
     "data": {
      "text/html": [
       "<div>\n",
       "<style scoped>\n",
       "    .dataframe tbody tr th:only-of-type {\n",
       "        vertical-align: middle;\n",
       "    }\n",
       "\n",
       "    .dataframe tbody tr th {\n",
       "        vertical-align: top;\n",
       "    }\n",
       "\n",
       "    .dataframe thead th {\n",
       "        text-align: right;\n",
       "    }\n",
       "</style>\n",
       "<table border=\"1\" class=\"dataframe\">\n",
       "  <thead>\n",
       "    <tr style=\"text-align: right;\">\n",
       "      <th></th>\n",
       "      <th>0</th>\n",
       "      <th>1</th>\n",
       "    </tr>\n",
       "  </thead>\n",
       "  <tbody>\n",
       "    <tr>\n",
       "      <th>0</th>\n",
       "      <td>14:00</td>\n",
       "      <td>(&lt;4,33&gt;,cam2)(&lt;9,26,27&gt;,cam2)(&lt;7,34&gt;,cam2)(&lt;8,...</td>\n",
       "    </tr>\n",
       "    <tr>\n",
       "      <th>1</th>\n",
       "      <td>14:01</td>\n",
       "      <td>(&lt;4,33&gt;,cam2)(&lt;9,26,27&gt;,cam2)(&lt;7,34&gt;,cam2)(&lt;8,...</td>\n",
       "    </tr>\n",
       "    <tr>\n",
       "      <th>2</th>\n",
       "      <td>14:02</td>\n",
       "      <td>(&lt;4,33&gt;,cam2)(&lt;9,26,27&gt;,cam2)(&lt;7,34&gt;,cam2)(&lt;8,...</td>\n",
       "    </tr>\n",
       "    <tr>\n",
       "      <th>3</th>\n",
       "      <td>14:03</td>\n",
       "      <td>(&lt;4,33&gt;,cam2)(&lt;9,26,27&gt;,cam2)(&lt;7,34&gt;,cam2)(&lt;8,...</td>\n",
       "    </tr>\n",
       "    <tr>\n",
       "      <th>4</th>\n",
       "      <td>14:04</td>\n",
       "      <td>(&lt;4,33&gt;,cam2)(&lt;9,26,27&gt;,cam2)(&lt;7,34&gt;,cam2)(&lt;8,...</td>\n",
       "    </tr>\n",
       "  </tbody>\n",
       "</table>\n",
       "</div>"
      ],
      "text/plain": [
       "       0                                                  1\n",
       "0  14:00  (<4,33>,cam2)(<9,26,27>,cam2)(<7,34>,cam2)(<8,...\n",
       "1  14:01  (<4,33>,cam2)(<9,26,27>,cam2)(<7,34>,cam2)(<8,...\n",
       "2  14:02  (<4,33>,cam2)(<9,26,27>,cam2)(<7,34>,cam2)(<8,...\n",
       "3  14:03  (<4,33>,cam2)(<9,26,27>,cam2)(<7,34>,cam2)(<8,...\n",
       "4  14:04  (<4,33>,cam2)(<9,26,27>,cam2)(<7,34>,cam2)(<8,..."
      ]
     },
     "execution_count": 4,
     "metadata": {},
     "output_type": "execute_result"
    }
   ],
   "source": [
    "d = pd.read_csv(os.path.join(ff_raw_data_path, 'seg2.csv'), header=None)\n",
    "d.head()"
   ]
  },
  {
   "cell_type": "code",
   "execution_count": 5,
   "metadata": {},
   "outputs": [
    {
     "data": {
      "text/plain": [
       "[('4,33', '2'),\n",
       " ('9,26,27', '2'),\n",
       " ('7,34', '2'),\n",
       " ('8,10', '4'),\n",
       " ('35,19,12', '4'),\n",
       " ('21,13', '4'),\n",
       " ('18,29,14,16', '4'),\n",
       " ('6', '4'),\n",
       " ('22,11', '6'),\n",
       " ('32,15,17,2', '6'),\n",
       " ('3,20', '6'),\n",
       " ('23,25,28,24', '8'),\n",
       " ('31,5', '8'),\n",
       " ('30,1', '8')]"
      ]
     },
     "execution_count": 5,
     "metadata": {},
     "output_type": "execute_result"
    }
   ],
   "source": [
    "re.findall(r'\\(<([0-9,]*)>, ?cam([0-9])\\)', s)"
   ]
  },
  {
   "cell_type": "code",
   "execution_count": 6,
   "metadata": {},
   "outputs": [],
   "source": [
    "def read_raw_annot(fpath):\n",
    "    d = pd.read_csv(fpath, header=None)\n",
    "    groups = []\n",
    "    for row in d[1]:\n",
    "        frame_groups = []\n",
    "        matches = re.findall(r'\\(<([0-9,]*)>, ?cam([0-9])\\)', row)\n",
    "        for m in matches:\n",
    "            cam = int(m[1])\n",
    "            pids = [int(e) for e in m[0].split(',')]\n",
    "\n",
    "            frame_groups.append({\n",
    "                'cam': cam,\n",
    "                'pids': pids\n",
    "            })\n",
    "        groups.append(frame_groups)\n",
    "    return groups              "
   ]
  },
  {
   "cell_type": "code",
   "execution_count": 7,
   "metadata": {},
   "outputs": [],
   "source": [
    "def to_groups(annot, offset=0):\n",
    "    d = [\n",
    "        {tuple(group_data['pids']): \n",
    "            {\n",
    "                'processed': False,\n",
    "                'cam': group_data['cam']\n",
    "            } for group_data in frame_data\n",
    "        } for frame_data in annot\n",
    "    ]\n",
    "\n",
    "    groups = []\n",
    "    for f, frame_data in enumerate(d):\n",
    "        for pids, info in frame_data.items():\n",
    "            if info['processed'] == True: continue\n",
    "\n",
    "            cam = d[f][pids]['cam']\n",
    "            g = f\n",
    "            while g < len(d) and pids in d[g] and d[g][pids]['processed'] == False:\n",
    "                d[g][pids]['processed'] = True\n",
    "                g += 1\n",
    "\n",
    "            groups.append({\n",
    "                'pids': pids,\n",
    "                'start': f + offset,\n",
    "                'end': g + offset,\n",
    "                'cam': cam\n",
    "            })\n",
    "\n",
    "    return groups"
   ]
  },
  {
   "cell_type": "code",
   "execution_count": 8,
   "metadata": {},
   "outputs": [],
   "source": [
    "annot2 = read_raw_annot(os.path.join(ff_raw_data_path, 'seg2.csv'))\n",
    "annot3 = read_raw_annot(os.path.join(ff_raw_data_path, 'seg3.csv'))"
   ]
  },
  {
   "cell_type": "code",
   "execution_count": 9,
   "metadata": {},
   "outputs": [
    {
     "data": {
      "text/plain": [
       "(219, 1058)"
      ]
     },
     "execution_count": 9,
     "metadata": {},
     "output_type": "execute_result"
    }
   ],
   "source": [
    "len(annot2), len(annot3)"
   ]
  },
  {
   "cell_type": "code",
   "execution_count": 11,
   "metadata": {},
   "outputs": [
    {
     "data": {
      "text/plain": [
       "217.0"
      ]
     },
     "execution_count": 11,
     "metadata": {},
     "output_type": "execute_result"
    }
   ],
   "source": [
    "vid3_offset_from_vid2.total_seconds()"
   ]
  },
  {
   "cell_type": "code",
   "execution_count": 12,
   "metadata": {},
   "outputs": [],
   "source": [
    "groups = to_groups(annot2) + to_groups(annot3[:12*60], offset=vid3_offset_from_vid2.total_seconds())"
   ]
  },
  {
   "cell_type": "code",
   "execution_count": 13,
   "metadata": {},
   "outputs": [
    {
     "data": {
      "text/plain": [
       "178"
      ]
     },
     "execution_count": 13,
     "metadata": {},
     "output_type": "execute_result"
    }
   ],
   "source": [
    "len(groups)"
   ]
  },
  {
   "cell_type": "code",
   "execution_count": 14,
   "metadata": {},
   "outputs": [
    {
     "data": {
      "text/plain": [
       "[{'pids': (4, 33), 'start': 0, 'end': 219, 'cam': 2},\n",
       " {'pids': (9, 26, 27), 'start': 0, 'end': 46, 'cam': 2},\n",
       " {'pids': (7, 34), 'start': 0, 'end': 51, 'cam': 2},\n",
       " {'pids': (8, 10), 'start': 0, 'end': 22, 'cam': 4},\n",
       " {'pids': (35, 19, 12), 'start': 0, 'end': 219, 'cam': 4},\n",
       " {'pids': (21, 13), 'start': 0, 'end': 146, 'cam': 4},\n",
       " {'pids': (18, 29, 14, 16), 'start': 0, 'end': 183, 'cam': 4},\n",
       " {'pids': (6,), 'start': 0, 'end': 45, 'cam': 4},\n",
       " {'pids': (22, 11), 'start': 0, 'end': 219, 'cam': 6},\n",
       " {'pids': (32, 15, 17, 2), 'start': 0, 'end': 219, 'cam': 6},\n",
       " {'pids': (3, 20), 'start': 0, 'end': 51, 'cam': 6},\n",
       " {'pids': (23, 25, 28, 24), 'start': 0, 'end': 107, 'cam': 8},\n",
       " {'pids': (31, 5), 'start': 0, 'end': 120, 'cam': 8},\n",
       " {'pids': (30, 1), 'start': 0, 'end': 170, 'cam': 8},\n",
       " {'pids': (8,), 'start': 22, 'end': 45, 'cam': 4},\n",
       " {'pids': (10,), 'start': 22, 'end': 51, 'cam': 4},\n",
       " {'pids': (8, 6), 'start': 45, 'end': 219, 'cam': 4},\n",
       " {'pids': (26, 27), 'start': 46, 'end': 47, 'cam': 2},\n",
       " {'pids': (9,), 'start': 46, 'end': 51, 'cam': 2},\n",
       " {'pids': (9, 26, 27), 'start': 47, 'end': 51, 'cam': 2},\n",
       " {'pids': (26, 27), 'start': 51, 'end': 116, 'cam': 2},\n",
       " {'pids': (7, 9, 34), 'start': 51, 'end': 161, 'cam': 2},\n",
       " {'pids': (10, 20, 3), 'start': 51, 'end': 55, 'cam': 6},\n",
       " {'pids': (10,), 'start': 55, 'end': 111, 'cam': 4},\n",
       " {'pids': (3, 20), 'start': 55, 'end': 219, 'cam': 6},\n",
       " {'pids': (28,), 'start': 107, 'end': 116, 'cam': 4},\n",
       " {'pids': (23,), 'start': 107, 'end': 120, 'cam': 6},\n",
       " {'pids': (25,), 'start': 107, 'end': 116, 'cam': 6},\n",
       " {'pids': (24,), 'start': 107, 'end': 146, 'cam': 6},\n",
       " {'pids': (10, 25), 'start': 111, 'end': 190, 'cam': 4},\n",
       " {'pids': (26, 27, 28), 'start': 116, 'end': 219, 'cam': 2},\n",
       " {'pids': (31, 5, 23), 'start': 120, 'end': 219, 'cam': 8},\n",
       " {'pids': (36,), 'start': 132, 'end': 175, 'cam': 4},\n",
       " {'pids': (37,), 'start': 134, 'end': 175, 'cam': 4},\n",
       " {'pids': (21, 13, 24), 'start': 146, 'end': 219, 'cam': 4},\n",
       " {'pids': (7, 9), 'start': 161, 'end': 175, 'cam': 4},\n",
       " {'pids': (34,), 'start': 161, 'end': 170, 'cam': 4},\n",
       " {'pids': (41,), 'start': 165, 'end': 176, 'cam': 6},\n",
       " {'pids': (30, 1, 34), 'start': 170, 'end': 219, 'cam': 8},\n",
       " {'pids': (40,), 'start': 171, 'end': 176, 'cam': 6},\n",
       " {'pids': (7, 9, 36, 37), 'start': 175, 'end': 219, 'cam': 4},\n",
       " {'pids': (41, 40), 'start': 176, 'end': 182, 'cam': 6},\n",
       " {'pids': (18, 29, 14, 16, 40, 41), 'start': 183, 'end': 219, 'cam': 4},\n",
       " {'pids': (10,), 'start': 190, 'end': 198, 'cam': 4},\n",
       " {'pids': (25,), 'start': 190, 'end': 198, 'cam': 4},\n",
       " {'pids': (10, 25), 'start': 198, 'end': 219, 'cam': 6},\n",
       " {'pids': (4, 33), 'start': 217.0, 'end': 270.0, 'cam': 2},\n",
       " {'pids': (28, 26, 27), 'start': 217.0, 'end': 576.0, 'cam': 2},\n",
       " {'pids': (7, 9, 36, 37), 'start': 217.0, 'end': 886.0, 'cam': 4},\n",
       " {'pids': (19, 12, 35), 'start': 217.0, 'end': 226.0, 'cam': 4},\n",
       " {'pids': (6, 8), 'start': 217.0, 'end': 592.0, 'cam': 4},\n",
       " {'pids': (13, 21, 24), 'start': 217.0, 'end': 472.0, 'cam': 4},\n",
       " {'pids': (16, 14, 18, 29, 40, 41), 'start': 217.0, 'end': 306.0, 'cam': 4},\n",
       " {'pids': (3, 20), 'start': 217.0, 'end': 350.0, 'cam': 4},\n",
       " {'pids': (32, 15, 2, 17), 'start': 217.0, 'end': 937.0, 'cam': 6},\n",
       " {'pids': (22, 11), 'start': 217.0, 'end': 650.0, 'cam': 6},\n",
       " {'pids': (25, 10), 'start': 217.0, 'end': 373.0, 'cam': 6},\n",
       " {'pids': (1, 30, 34), 'start': 217.0, 'end': 235.0, 'cam': 8},\n",
       " {'pids': (5, 23, 31), 'start': 217.0, 'end': 244.0, 'cam': 8},\n",
       " {'pids': (19,), 'start': 226.0, 'end': 232.0, 'cam': 4},\n",
       " {'pids': (12,), 'start': 226.0, 'end': 234.0, 'cam': 4},\n",
       " {'pids': (35,), 'start': 226.0, 'end': 232.0, 'cam': 4},\n",
       " {'pids': (42,), 'start': 228.0, 'end': 235.0, 'cam': 6},\n",
       " {'pids': (19, 35), 'start': 232.0, 'end': 299.0, 'cam': 4},\n",
       " {'pids': (1, 30, 34, 42), 'start': 235.0, 'end': 251.0, 'cam': 8},\n",
       " {'pids': (12,), 'start': 235.0, 'end': 251.0, 'cam': 6},\n",
       " {'pids': (5, 23), 'start': 244.0, 'end': 251.0, 'cam': 8},\n",
       " {'pids': (31,), 'start': 244.0, 'end': 262.0, 'cam': 8},\n",
       " {'pids': (42,), 'start': 251.0, 'end': 270.0, 'cam': 6},\n",
       " {'pids': (1, 30, 34), 'start': 251.0, 'end': 262.0, 'cam': 8},\n",
       " {'pids': (5, 23, 12), 'start': 251.0, 'end': 725.0, 'cam': 8},\n",
       " {'pids': (1, 30, 34, 31), 'start': 262.0, 'end': 296.0, 'cam': 8},\n",
       " {'pids': (4, 33, 42), 'start': 270.0, 'end': 937.0, 'cam': 2},\n",
       " {'pids': (1, 30, 31), 'start': 296.0, 'end': 308.0, 'cam': 8},\n",
       " {'pids': (34,), 'start': 296.0, 'end': 300.0, 'cam': 8},\n",
       " {'pids': (19,), 'start': 299.0, 'end': 306.0, 'cam': 4},\n",
       " {'pids': (35,), 'start': 299.0, 'end': 311.0, 'cam': 4},\n",
       " {'pids': (34, 43), 'start': 300.0, 'end': 564.0, 'cam': 8},\n",
       " {'pids': (16, 14, 18, 29, 40, 41, 19),\n",
       "  'start': 306.0,\n",
       "  'end': 410.0,\n",
       "  'cam': 4},\n",
       " {'pids': (1, 30), 'start': 308.0, 'end': 376.0, 'cam': 8},\n",
       " {'pids': (31,), 'start': 308.0, 'end': 316.0, 'cam': 8},\n",
       " {'pids': (35,), 'start': 312.0, 'end': 316.0, 'cam': 6},\n",
       " {'pids': (31, 35), 'start': 316.0, 'end': 376.0, 'cam': 8},\n",
       " {'pids': (3,), 'start': 350.0, 'end': 373.0, 'cam': 4},\n",
       " {'pids': (20,), 'start': 350.0, 'end': 410.0, 'cam': 4},\n",
       " {'pids': (25, 10, 3), 'start': 373.0, 'end': 575.0, 'cam': 6},\n",
       " {'pids': (30, 31, 35), 'start': 376.0, 'end': 763.0, 'cam': 8},\n",
       " {'pids': (1,), 'start': 376.0, 'end': 399.0, 'cam': 6},\n",
       " {'pids': (44,), 'start': 383.0, 'end': 386.0, 'cam': 6},\n",
       " {'pids': (44,), 'start': 387.0, 'end': 410.0, 'cam': 4},\n",
       " {'pids': (1,), 'start': 400.0, 'end': 415.0, 'cam': 6},\n",
       " {'pids': (16, 14, 18, 29, 40, 41, 19, 44),\n",
       "  'start': 410.0,\n",
       "  'end': 415.0,\n",
       "  'cam': 4},\n",
       " {'pids': (20,), 'start': 411.0, 'end': 472.0, 'cam': 6},\n",
       " {'pids': (16, 14, 18, 29, 40, 41, 19, 44, 1),\n",
       "  'start': 415.0,\n",
       "  'end': 538.0,\n",
       "  'cam': 4},\n",
       " {'pids': (13, 21, 24, 20), 'start': 472.0, 'end': 521.0, 'cam': 4},\n",
       " {'pids': (45,), 'start': 509.0, 'end': 538.0, 'cam': 4},\n",
       " {'pids': (13, 21, 24), 'start': 521.0, 'end': 535.0, 'cam': 4},\n",
       " {'pids': (20,), 'start': 521.0, 'end': 535.0, 'cam': 4},\n",
       " {'pids': (13, 21, 24, 20), 'start': 535.0, 'end': 595.0, 'cam': 4},\n",
       " {'pids': (16, 14, 18, 29, 40, 41, 19, 44, 1, 45),\n",
       "  'start': 538.0,\n",
       "  'end': 602.0,\n",
       "  'cam': 4},\n",
       " {'pids': (43,), 'start': 564.0, 'end': 576.0, 'cam': 6},\n",
       " {'pids': (25,), 'start': 575.0, 'end': 592.0, 'cam': 6},\n",
       " {'pids': (10,), 'start': 575.0, 'end': 926.0, 'cam': 6},\n",
       " {'pids': (3,), 'start': 575.0, 'end': 595.0, 'cam': 6},\n",
       " {'pids': (28, 26), 'start': 576.0, 'end': 937.0, 'cam': 2},\n",
       " {'pids': (43, 27), 'start': 576.0, 'end': 839.0, 'cam': 4},\n",
       " {'pids': (6, 8, 25), 'start': 592.0, 'end': 897.0, 'cam': 4},\n",
       " {'pids': (13, 21, 24), 'start': 595.0, 'end': 937.0, 'cam': 4},\n",
       " {'pids': (3, 20), 'start': 595.0, 'end': 937.0, 'cam': 4},\n",
       " {'pids': (18, 40, 45), 'start': 602.0, 'end': 609.0, 'cam': 4},\n",
       " {'pids': (16, 44), 'start': 602.0, 'end': 626.0, 'cam': 4},\n",
       " {'pids': (14, 41), 'start': 602.0, 'end': 609.0, 'cam': 4},\n",
       " {'pids': (19, 29, 1), 'start': 602.0, 'end': 626.0, 'cam': 4},\n",
       " {'pids': (18, 40, 45, 14, 41), 'start': 609.0, 'end': 626.0, 'cam': 4},\n",
       " {'pids': (18, 40, 14, 41), 'start': 626.0, 'end': 627.0, 'cam': 4},\n",
       " {'pids': (16, 44, 45), 'start': 626.0, 'end': 635.0, 'cam': 4},\n",
       " {'pids': (29, 1), 'start': 626.0, 'end': 627.0, 'cam': 4},\n",
       " {'pids': (19,), 'start': 626.0, 'end': 627.0, 'cam': 4},\n",
       " {'pids': (18, 40, 14, 41, 19), 'start': 627.0, 'end': 650.0, 'cam': 4},\n",
       " {'pids': (29,), 'start': 627.0, 'end': 635.0, 'cam': 4},\n",
       " {'pids': (1,), 'start': 627.0, 'end': 635.0, 'cam': 4},\n",
       " {'pids': (16, 44, 45, 29, 1), 'start': 635.0, 'end': 695.0, 'cam': 4},\n",
       " {'pids': (18, 40, 19), 'start': 650.0, 'end': 661.0, 'cam': 4},\n",
       " {'pids': (41,), 'start': 650.0, 'end': 661.0, 'cam': 4},\n",
       " {'pids': (22, 11, 14), 'start': 650.0, 'end': 937.0, 'cam': 6},\n",
       " {'pids': (18, 19), 'start': 661.0, 'end': 671.0, 'cam': 4},\n",
       " {'pids': (40, 41), 'start': 661.0, 'end': 671.0, 'cam': 4},\n",
       " {'pids': (18, 19, 40, 41), 'start': 671.0, 'end': 698.0, 'cam': 4},\n",
       " {'pids': (16, 44, 29, 1), 'start': 695.0, 'end': 937.0, 'cam': 4},\n",
       " {'pids': (45,), 'start': 695.0, 'end': 698.0, 'cam': 4},\n",
       " {'pids': (18, 19, 40, 41, 45), 'start': 698.0, 'end': 707.0, 'cam': 4},\n",
       " {'pids': (18, 19, 40, 41), 'start': 707.0, 'end': 709.0, 'cam': 4},\n",
       " {'pids': (45,), 'start': 707.0, 'end': 713.0, 'cam': 4},\n",
       " {'pids': (18, 19, 41), 'start': 709.0, 'end': 840.0, 'cam': 4},\n",
       " {'pids': (40,), 'start': 709.0, 'end': 713.0, 'cam': 4},\n",
       " {'pids': (45, 40), 'start': 713.0, 'end': 762.0, 'cam': 6},\n",
       " {'pids': (23, 12), 'start': 725.0, 'end': 754.0, 'cam': 8},\n",
       " {'pids': (5,), 'start': 725.0, 'end': 754.0, 'cam': 6},\n",
       " {'pids': (5, 23, 12), 'start': 754.0, 'end': 762.0, 'cam': 8},\n",
       " {'pids': (23, 12), 'start': 762.0, 'end': 937.0, 'cam': 8},\n",
       " {'pids': (5,), 'start': 762.0, 'end': 775.0, 'cam': 6},\n",
       " {'pids': (45,), 'start': 762.0, 'end': 764.0, 'cam': 8},\n",
       " {'pids': (40,), 'start': 762.0, 'end': 763.0, 'cam': 8},\n",
       " {'pids': (30, 31, 35, 40), 'start': 763.0, 'end': 764.0, 'cam': 8},\n",
       " {'pids': (30, 31, 35, 40, 45), 'start': 764.0, 'end': 785.0, 'cam': 8},\n",
       " {'pids': (5, 46), 'start': 775.0, 'end': 804.0, 'cam': 4},\n",
       " {'pids': (30, 31, 35), 'start': 785.0, 'end': 788.0, 'cam': 8},\n",
       " {'pids': (40,), 'start': 785.0, 'end': 788.0, 'cam': 8},\n",
       " {'pids': (45,), 'start': 785.0, 'end': 790.0, 'cam': 8},\n",
       " {'pids': (30, 31, 35, 40), 'start': 788.0, 'end': 790.0, 'cam': 8},\n",
       " {'pids': (30, 31, 35, 40, 45), 'start': 790.0, 'end': 828.0, 'cam': 8},\n",
       " {'pids': (5,), 'start': 804.0, 'end': 821.0, 'cam': 4},\n",
       " {'pids': (46,), 'start': 804.0, 'end': 821.0, 'cam': 4},\n",
       " {'pids': (5, 46), 'start': 821.0, 'end': 829.0, 'cam': 6},\n",
       " {'pids': (30, 31, 35, 45), 'start': 828.0, 'end': 830.0, 'cam': 8},\n",
       " {'pids': (40,), 'start': 828.0, 'end': 830.0, 'cam': 8},\n",
       " {'pids': (5,), 'start': 829.0, 'end': 839.0, 'cam': 4},\n",
       " {'pids': (46,), 'start': 829.0, 'end': 837.0, 'cam': 6},\n",
       " {'pids': (30, 31, 35), 'start': 830.0, 'end': 837.0, 'cam': 8},\n",
       " {'pids': (40, 45), 'start': 830.0, 'end': 838.0, 'cam': 8},\n",
       " {'pids': (30, 31), 'start': 837.0, 'end': 937.0, 'cam': 8},\n",
       " {'pids': (46, 35), 'start': 837.0, 'end': 937.0, 'cam': 6},\n",
       " {'pids': (40,), 'start': 838.0, 'end': 840.0, 'cam': 6},\n",
       " {'pids': (45,), 'start': 838.0, 'end': 846.0, 'cam': 6},\n",
       " {'pids': (43, 27, 5), 'start': 839.0, 'end': 846.0, 'cam': 4},\n",
       " {'pids': (18, 19, 41, 40), 'start': 840.0, 'end': 897.0, 'cam': 4},\n",
       " {'pids': (43, 27, 5, 45), 'start': 846.0, 'end': 918.0, 'cam': 4},\n",
       " {'pids': (7,), 'start': 886.0, 'end': 897.0, 'cam': 2},\n",
       " {'pids': (9,), 'start': 886.0, 'end': 898.0, 'cam': 4},\n",
       " {'pids': (36,), 'start': 886.0, 'end': 897.0, 'cam': 4},\n",
       " {'pids': (37,), 'start': 886.0, 'end': 900.0, 'cam': 4},\n",
       " {'pids': (6, 8, 25, 7), 'start': 897.0, 'end': 937.0, 'cam': 4},\n",
       " {'pids': (18, 19, 41, 40, 36), 'start': 897.0, 'end': 900.0, 'cam': 4},\n",
       " {'pids': (9,), 'start': 899.0, 'end': 918.0, 'cam': 2},\n",
       " {'pids': (18, 19, 41, 40, 36, 37), 'start': 900.0, 'end': 937.0, 'cam': 4},\n",
       " {'pids': (43, 27, 5, 45, 9), 'start': 918.0, 'end': 937.0, 'cam': 4},\n",
       " {'pids': (47,), 'start': 921.0, 'end': 926.0, 'cam': 4},\n",
       " {'pids': (10, 47), 'start': 926.0, 'end': 937.0, 'cam': 6}]"
      ]
     },
     "execution_count": 14,
     "metadata": {},
     "output_type": "execute_result"
    }
   ],
   "source": [
    "groups"
   ]
  },
  {
   "cell_type": "code",
   "execution_count": 15,
   "metadata": {},
   "outputs": [],
   "source": [
    "pd.DataFrame(groups).to_csv(os.path.join(ff_processed_data_path, 'groups.csv'))"
   ]
  },
  {
   "cell_type": "code",
   "execution_count": null,
   "metadata": {},
   "outputs": [],
   "source": []
  }
 ],
 "metadata": {
  "interpreter": {
   "hash": "7ff63645dd16f55240e07095d3c46f4fac3f89ef16802cfaceca713f6cf38dfb"
  },
  "kernelspec": {
   "display_name": "Python 3.8.13 ('base')",
   "language": "python",
   "name": "python3"
  },
  "language_info": {
   "codemirror_mode": {
    "name": "ipython",
    "version": 3
   },
   "file_extension": ".py",
   "mimetype": "text/x-python",
   "name": "python",
   "nbconvert_exporter": "python",
   "pygments_lexer": "ipython3",
   "version": "3.8.13"
  },
  "orig_nbformat": 4
 },
 "nbformat": 4,
 "nbformat_minor": 2
}
