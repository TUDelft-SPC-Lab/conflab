{
 "cells": [
  {
   "cell_type": "markdown",
   "metadata": {},
   "source": [
    "# Midge preprocessing\n",
    "\n",
    "This file preprocesses the raw data from the midges\n",
    "The most important step is interpolation to a fixed sampling rate, to make it more convenient to load data using the data loaders."
   ]
  },
  {
   "cell_type": "code",
   "execution_count": 1,
   "metadata": {},
   "outputs": [],
   "source": [
    "import os\n",
    "from pathlib import Path"
   ]
  },
  {
   "cell_type": "code",
   "execution_count": 2,
   "metadata": {},
   "outputs": [],
   "source": [
    "import pandas as pd\n",
    "import numpy as np\n",
    "from matplotlib import pyplot as plt\n",
    "from scipy.interpolate import interp1d\n",
    "from tqdm.notebook import tqdm"
   ]
  },
  {
   "cell_type": "code",
   "execution_count": 3,
   "metadata": {},
   "outputs": [],
   "source": [
    "from conflab.constants import midge_raw_data_path, midge_data_path, vid2_start"
   ]
  },
  {
   "cell_type": "code",
   "execution_count": 4,
   "metadata": {},
   "outputs": [],
   "source": [
    "start_dt = vid2_start"
   ]
  },
  {
   "cell_type": "code",
   "execution_count": 5,
   "metadata": {},
   "outputs": [],
   "source": [
    "# load all midge data\n",
    "data = {}\n",
    "for midge_folder in os.listdir(midge_raw_data_path):\n",
    "    subpath = os.path.join(midge_raw_data_path, midge_folder)\n",
    "    midge_data = {}\n",
    "    for f in Path(subpath).rglob('*.csv'):\n",
    "        df = pd.read_csv(str(f))\n",
    "        \n",
    "        df['time'] = pd.to_datetime(df['time'])\n",
    "        df = df[df['time'] > start_dt].reset_index()\n",
    "        # convert datetime to seconds\n",
    "        df['time'] = (df['time'] - df['time'][0]).dt.total_seconds()\n",
    "\n",
    "        if 'proximity.csv' in str(f):\n",
    "            k = 'prox'\n",
    "        elif 'accel.csv' in str(f):\n",
    "            k = 'accel'\n",
    "        elif 'gyr.csv' in str(f):\n",
    "            k = 'gyr'\n",
    "        elif 'mag.csv' in str(f):\n",
    "            k = 'mag'\n",
    "        elif 'rotation.csv' in str(f):\n",
    "            k = 'rot'\n",
    "        else:\n",
    "            pass\n",
    "        midge_data[k] = df\n",
    "\n",
    "    data[int(midge_folder)] = midge_data"
   ]
  },
  {
   "cell_type": "code",
   "execution_count": 6,
   "metadata": {},
   "outputs": [],
   "source": [
    "def interpolate(df: pd.DataFrame, columns, end_time, sr=50):\n",
    "    x = df['time'].to_numpy()\n",
    "    y = df[columns].to_numpy()\n",
    "\n",
    "    fn = interp1d(x, y, axis=0, kind='linear')\n",
    "\n",
    "    xnew = np.arange(x[0], end_time, 1/sr)\n",
    "\n",
    "    return pd.DataFrame(fn(xnew), columns=columns)"
   ]
  },
  {
   "cell_type": "code",
   "execution_count": 7,
   "metadata": {},
   "outputs": [],
   "source": [
    "sample = data[1]['accel'].copy()"
   ]
  },
  {
   "cell_type": "code",
   "execution_count": 8,
   "metadata": {},
   "outputs": [
    {
     "ename": "TypeError",
     "evalue": "interpolate() missing 1 required positional argument: 'end_time'",
     "output_type": "error",
     "traceback": [
      "\u001b[0;31m---------------------------------------------------------------------------\u001b[0m",
      "\u001b[0;31mTypeError\u001b[0m                                 Traceback (most recent call last)",
      "\u001b[1;32m/mnt/c/Users/Jose/Documents/furnace/conflab/preprocessing/midge/preprocess.ipynb Cell 9'\u001b[0m in \u001b[0;36m<module>\u001b[0;34m\u001b[0m\n\u001b[0;32m----> <a href='vscode-notebook-cell://wsl%2Bubuntu/mnt/c/Users/Jose/Documents/furnace/conflab/preprocessing/midge/preprocess.ipynb#ch0000011vscode-remote?line=0'>1</a>\u001b[0m interpolated \u001b[39m=\u001b[39m interpolate(sample, [\u001b[39m'\u001b[39;49m\u001b[39mtime\u001b[39;49m\u001b[39m'\u001b[39;49m, \u001b[39m'\u001b[39;49m\u001b[39mX\u001b[39;49m\u001b[39m'\u001b[39;49m, \u001b[39m'\u001b[39;49m\u001b[39mY\u001b[39;49m\u001b[39m'\u001b[39;49m, \u001b[39m'\u001b[39;49m\u001b[39mZ\u001b[39;49m\u001b[39m'\u001b[39;49m])\n",
      "\u001b[0;31mTypeError\u001b[0m: interpolate() missing 1 required positional argument: 'end_time'"
     ]
    }
   ],
   "source": [
    "interpolated = interpolate(sample, ['time', 'X', 'Y', 'Z'])"
   ]
  },
  {
   "cell_type": "code",
   "execution_count": null,
   "metadata": {},
   "outputs": [
    {
     "data": {
      "text/html": [
       "<div>\n",
       "<style scoped>\n",
       "    .dataframe tbody tr th:only-of-type {\n",
       "        vertical-align: middle;\n",
       "    }\n",
       "\n",
       "    .dataframe tbody tr th {\n",
       "        vertical-align: top;\n",
       "    }\n",
       "\n",
       "    .dataframe thead th {\n",
       "        text-align: right;\n",
       "    }\n",
       "</style>\n",
       "<table border=\"1\" class=\"dataframe\">\n",
       "  <thead>\n",
       "    <tr style=\"text-align: right;\">\n",
       "      <th></th>\n",
       "      <th>index</th>\n",
       "      <th>Unnamed: 0</th>\n",
       "      <th>time</th>\n",
       "      <th>X</th>\n",
       "      <th>Y</th>\n",
       "      <th>Z</th>\n",
       "    </tr>\n",
       "  </thead>\n",
       "  <tbody>\n",
       "    <tr>\n",
       "      <th>0</th>\n",
       "      <td>78635</td>\n",
       "      <td>78635</td>\n",
       "      <td>0.000</td>\n",
       "      <td>0.137207</td>\n",
       "      <td>-0.922363</td>\n",
       "      <td>0.414551</td>\n",
       "    </tr>\n",
       "    <tr>\n",
       "      <th>1</th>\n",
       "      <td>78636</td>\n",
       "      <td>78636</td>\n",
       "      <td>0.018</td>\n",
       "      <td>0.134277</td>\n",
       "      <td>-0.932129</td>\n",
       "      <td>0.406738</td>\n",
       "    </tr>\n",
       "    <tr>\n",
       "      <th>2</th>\n",
       "      <td>78637</td>\n",
       "      <td>78637</td>\n",
       "      <td>0.036</td>\n",
       "      <td>0.143066</td>\n",
       "      <td>-0.913574</td>\n",
       "      <td>0.407715</td>\n",
       "    </tr>\n",
       "    <tr>\n",
       "      <th>3</th>\n",
       "      <td>78638</td>\n",
       "      <td>78638</td>\n",
       "      <td>0.054</td>\n",
       "      <td>0.138672</td>\n",
       "      <td>-0.918945</td>\n",
       "      <td>0.425293</td>\n",
       "    </tr>\n",
       "    <tr>\n",
       "      <th>4</th>\n",
       "      <td>78639</td>\n",
       "      <td>78639</td>\n",
       "      <td>0.072</td>\n",
       "      <td>0.135254</td>\n",
       "      <td>-0.924805</td>\n",
       "      <td>0.416992</td>\n",
       "    </tr>\n",
       "    <tr>\n",
       "      <th>5</th>\n",
       "      <td>78640</td>\n",
       "      <td>78640</td>\n",
       "      <td>0.089</td>\n",
       "      <td>0.123047</td>\n",
       "      <td>-0.920898</td>\n",
       "      <td>0.404785</td>\n",
       "    </tr>\n",
       "    <tr>\n",
       "      <th>6</th>\n",
       "      <td>78641</td>\n",
       "      <td>78641</td>\n",
       "      <td>0.106</td>\n",
       "      <td>0.114258</td>\n",
       "      <td>-0.916992</td>\n",
       "      <td>0.397949</td>\n",
       "    </tr>\n",
       "    <tr>\n",
       "      <th>7</th>\n",
       "      <td>78642</td>\n",
       "      <td>78642</td>\n",
       "      <td>0.123</td>\n",
       "      <td>0.105957</td>\n",
       "      <td>-0.916016</td>\n",
       "      <td>0.407227</td>\n",
       "    </tr>\n",
       "    <tr>\n",
       "      <th>8</th>\n",
       "      <td>78643</td>\n",
       "      <td>78643</td>\n",
       "      <td>0.140</td>\n",
       "      <td>0.115723</td>\n",
       "      <td>-0.930176</td>\n",
       "      <td>0.395996</td>\n",
       "    </tr>\n",
       "    <tr>\n",
       "      <th>9</th>\n",
       "      <td>78644</td>\n",
       "      <td>78644</td>\n",
       "      <td>0.157</td>\n",
       "      <td>0.113281</td>\n",
       "      <td>-0.926758</td>\n",
       "      <td>0.427734</td>\n",
       "    </tr>\n",
       "  </tbody>\n",
       "</table>\n",
       "</div>"
      ],
      "text/plain": [
       "   index  Unnamed: 0   time         X         Y         Z\n",
       "0  78635       78635  0.000  0.137207 -0.922363  0.414551\n",
       "1  78636       78636  0.018  0.134277 -0.932129  0.406738\n",
       "2  78637       78637  0.036  0.143066 -0.913574  0.407715\n",
       "3  78638       78638  0.054  0.138672 -0.918945  0.425293\n",
       "4  78639       78639  0.072  0.135254 -0.924805  0.416992\n",
       "5  78640       78640  0.089  0.123047 -0.920898  0.404785\n",
       "6  78641       78641  0.106  0.114258 -0.916992  0.397949\n",
       "7  78642       78642  0.123  0.105957 -0.916016  0.407227\n",
       "8  78643       78643  0.140  0.115723 -0.930176  0.395996\n",
       "9  78644       78644  0.157  0.113281 -0.926758  0.427734"
      ]
     },
     "execution_count": 17,
     "metadata": {},
     "output_type": "execute_result"
    }
   ],
   "source": [
    "sample.head(10)"
   ]
  },
  {
   "cell_type": "code",
   "execution_count": null,
   "metadata": {},
   "outputs": [
    {
     "data": {
      "text/html": [
       "<div>\n",
       "<style scoped>\n",
       "    .dataframe tbody tr th:only-of-type {\n",
       "        vertical-align: middle;\n",
       "    }\n",
       "\n",
       "    .dataframe tbody tr th {\n",
       "        vertical-align: top;\n",
       "    }\n",
       "\n",
       "    .dataframe thead th {\n",
       "        text-align: right;\n",
       "    }\n",
       "</style>\n",
       "<table border=\"1\" class=\"dataframe\">\n",
       "  <thead>\n",
       "    <tr style=\"text-align: right;\">\n",
       "      <th></th>\n",
       "      <th>time</th>\n",
       "      <th>X</th>\n",
       "      <th>Y</th>\n",
       "      <th>Z</th>\n",
       "    </tr>\n",
       "  </thead>\n",
       "  <tbody>\n",
       "    <tr>\n",
       "      <th>0</th>\n",
       "      <td>0.00</td>\n",
       "      <td>0.137207</td>\n",
       "      <td>-0.922363</td>\n",
       "      <td>0.414551</td>\n",
       "    </tr>\n",
       "    <tr>\n",
       "      <th>1</th>\n",
       "      <td>0.02</td>\n",
       "      <td>0.135254</td>\n",
       "      <td>-0.930067</td>\n",
       "      <td>0.406847</td>\n",
       "    </tr>\n",
       "    <tr>\n",
       "      <th>2</th>\n",
       "      <td>0.04</td>\n",
       "      <td>0.142090</td>\n",
       "      <td>-0.914768</td>\n",
       "      <td>0.411621</td>\n",
       "    </tr>\n",
       "    <tr>\n",
       "      <th>3</th>\n",
       "      <td>0.06</td>\n",
       "      <td>0.137533</td>\n",
       "      <td>-0.920898</td>\n",
       "      <td>0.422526</td>\n",
       "    </tr>\n",
       "    <tr>\n",
       "      <th>4</th>\n",
       "      <td>0.08</td>\n",
       "      <td>0.129509</td>\n",
       "      <td>-0.922966</td>\n",
       "      <td>0.411248</td>\n",
       "    </tr>\n",
       "    <tr>\n",
       "      <th>5</th>\n",
       "      <td>0.10</td>\n",
       "      <td>0.117360</td>\n",
       "      <td>-0.918371</td>\n",
       "      <td>0.400362</td>\n",
       "    </tr>\n",
       "    <tr>\n",
       "      <th>6</th>\n",
       "      <td>0.12</td>\n",
       "      <td>0.107422</td>\n",
       "      <td>-0.916188</td>\n",
       "      <td>0.405589</td>\n",
       "    </tr>\n",
       "    <tr>\n",
       "      <th>7</th>\n",
       "      <td>0.14</td>\n",
       "      <td>0.115723</td>\n",
       "      <td>-0.930176</td>\n",
       "      <td>0.395996</td>\n",
       "    </tr>\n",
       "    <tr>\n",
       "      <th>8</th>\n",
       "      <td>0.16</td>\n",
       "      <td>0.112161</td>\n",
       "      <td>-0.926413</td>\n",
       "      <td>0.427562</td>\n",
       "    </tr>\n",
       "    <tr>\n",
       "      <th>9</th>\n",
       "      <td>0.18</td>\n",
       "      <td>0.111242</td>\n",
       "      <td>-0.922220</td>\n",
       "      <td>0.426585</td>\n",
       "    </tr>\n",
       "  </tbody>\n",
       "</table>\n",
       "</div>"
      ],
      "text/plain": [
       "   time         X         Y         Z\n",
       "0  0.00  0.137207 -0.922363  0.414551\n",
       "1  0.02  0.135254 -0.930067  0.406847\n",
       "2  0.04  0.142090 -0.914768  0.411621\n",
       "3  0.06  0.137533 -0.920898  0.422526\n",
       "4  0.08  0.129509 -0.922966  0.411248\n",
       "5  0.10  0.117360 -0.918371  0.400362\n",
       "6  0.12  0.107422 -0.916188  0.405589\n",
       "7  0.14  0.115723 -0.930176  0.395996\n",
       "8  0.16  0.112161 -0.926413  0.427562\n",
       "9  0.18  0.111242 -0.922220  0.426585"
      ]
     },
     "execution_count": 16,
     "metadata": {},
     "output_type": "execute_result"
    }
   ],
   "source": [
    "interpolated.head(10)"
   ]
  },
  {
   "cell_type": "code",
   "execution_count": null,
   "metadata": {},
   "outputs": [
    {
     "data": {
      "text/plain": [
       "<AxesSubplot:xlabel='time'>"
      ]
     },
     "execution_count": 27,
     "metadata": {},
     "output_type": "execute_result"
    },
    {
     "data": {
      "image/png": "[encoded data removed]",
      "text/plain": [
       "<Figure size 432x288 with 1 Axes>"
      ]
     },
     "metadata": {
      "needs_background": "light"
     },
     "output_type": "display_data"
    }
   ],
   "source": [
    "ax = sample[(sample['time'] >= 100) & (sample['time'] < 102)].plot(x='time', y='X')\n",
    "interpolated[(interpolated['time'] >= 100) & (interpolated['time'] < 102)].plot(x='time', y='X', ax=ax)"
   ]
  },
  {
   "cell_type": "markdown",
   "metadata": {},
   "source": [
    "# Interpolate and save"
   ]
  },
  {
   "cell_type": "code",
   "execution_count": 10,
   "metadata": {},
   "outputs": [
    {
     "data": {
      "application/vnd.jupyter.widget-view+json": {
       "model_id": "3602076f4026489689db2950ca84af74",
       "version_major": 2,
       "version_minor": 0
      },
      "text/plain": [
       "  0%|          | 0/49 [00:00<?, ?it/s]"
      ]
     },
     "metadata": {},
     "output_type": "display_data"
    },
    {
     "name": "stderr",
     "output_type": "stream",
     "text": [
      "/home/jose/.local/lib/python3.8/site-packages/scipy/interpolate/interpolate.py:630: RuntimeWarning: divide by zero encountered in true_divide\n",
      "  slope = (y_hi - y_lo) / (x_hi - x_lo)[:, None]\n",
      "/home/jose/.local/lib/python3.8/site-packages/scipy/interpolate/interpolate.py:630: RuntimeWarning: invalid value encountered in true_divide\n",
      "  slope = (y_hi - y_lo) / (x_hi - x_lo)[:, None]\n",
      "/home/jose/.local/lib/python3.8/site-packages/scipy/interpolate/interpolate.py:633: RuntimeWarning: invalid value encountered in multiply\n",
      "  y_new = slope*(x_new - x_lo)[:, None] + y_lo\n",
      "/home/jose/.local/lib/python3.8/site-packages/scipy/interpolate/interpolate.py:630: RuntimeWarning: divide by zero encountered in true_divide\n",
      "  slope = (y_hi - y_lo) / (x_hi - x_lo)[:, None]\n",
      "/home/jose/.local/lib/python3.8/site-packages/scipy/interpolate/interpolate.py:630: RuntimeWarning: invalid value encountered in true_divide\n",
      "  slope = (y_hi - y_lo) / (x_hi - x_lo)[:, None]\n",
      "/home/jose/.local/lib/python3.8/site-packages/scipy/interpolate/interpolate.py:633: RuntimeWarning: invalid value encountered in multiply\n",
      "  y_new = slope*(x_new - x_lo)[:, None] + y_lo\n"
     ]
    }
   ],
   "source": [
    "for pid, person_data in tqdm(data.items()):\n",
    "\n",
    "    end_time = person_data['accel']['time'].iloc[-1] - 10\n",
    "\n",
    "    accel = interpolate(person_data['accel'], ['time', 'X', 'Y', 'Z'], end_time)\n",
    "    gyr = interpolate(person_data['gyr'], ['time', 'X', 'Y', 'Z'], end_time)\n",
    "    mag = interpolate(person_data['mag'], ['time', 'X', 'Y', 'Z'], end_time)\n",
    "    rot = interpolate(person_data['rot'], ['time', 'a', 'b', 'c', 'd'], end_time)\n",
    "    prox = interpolate(person_data['prox'], ['time', 'rssi'], end_time)\n",
    "\n",
    "    joint = pd.concat([accel.iloc[:, :], gyr.iloc[:, 1:], mag.iloc[:, 1:], rot.iloc[:, 1:], prox.iloc[:, 1:]], axis=1)\n",
    "    joint.columns=[\n",
    "        'time',\n",
    "        'accelX', 'accelY', 'accelZ',\n",
    "        'gyrX', 'gyrY', 'gyrZ',\n",
    "        'magX', 'magY', 'magZ',\n",
    "        'rotA', 'rotB', 'rotC', 'rotD',\n",
    "        'rssi'\n",
    "    ]\n",
    "    joint.to_csv(os.path.join(midge_data_path, f'{pid}.csv'), index=False)"
   ]
  },
  {
   "cell_type": "code",
   "execution_count": null,
   "metadata": {},
   "outputs": [],
   "source": []
  }
 ],
 "metadata": {
  "interpreter": {
   "hash": "916dbcbb3f70747c44a77c7bcd40155683ae19c65e1c03b4aa3499c5328201f1"
  },
  "kernelspec": {
   "display_name": "Python 3.8.10 64-bit",
   "language": "python",
   "name": "python3"
  },
  "language_info": {
   "codemirror_mode": {
    "name": "ipython",
    "version": 3
   },
   "file_extension": ".py",
   "mimetype": "text/x-python",
   "name": "python",
   "nbconvert_exporter": "python",
   "pygments_lexer": "ipython3",
   "version": "3.8.10"
  },
  "orig_nbformat": 4
 },
 "nbformat": 4,
 "nbformat_minor": 2
}
