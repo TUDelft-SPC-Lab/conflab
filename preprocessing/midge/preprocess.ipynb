{
 "cells": [
  {
   "cell_type": "markdown",
   "metadata": {},
   "source": [
    "# Midge preprocessing\n",
    "\n",
    "This file preprocesses the raw data from the midges\n",
    "The most important step is interpolation to a fixed sampling rate, to make it more convenient to load data using the data loaders."
   ]
  },
  {
   "cell_type": "code",
   "execution_count": 1,
   "metadata": {},
   "outputs": [],
   "source": [
    "import os\n",
    "from pathlib import Path"
   ]
  },
  {
   "cell_type": "code",
   "execution_count": 2,
   "metadata": {},
   "outputs": [],
   "source": [
    "from datetime import datetime, timedelta\n",
    "import pandas as pd\n",
    "import numpy as np\n",
    "from matplotlib import pyplot as plt\n",
    "from scipy.interpolate import interp1d\n",
    "from tqdm.notebook import tqdm"
   ]
  },
  {
   "cell_type": "code",
   "execution_count": 12,
   "metadata": {},
   "outputs": [],
   "source": [
    "from conflab.constants import (midge_raw_data_path, midge_data_path, \n",
    "    annotated_section_start, annotated_section_end, annotated_section_len)"
   ]
  },
  {
   "cell_type": "code",
   "execution_count": 5,
   "metadata": {},
   "outputs": [
    {
     "data": {
      "application/vnd.jupyter.widget-view+json": {
       "model_id": "c166cf8f028445aa8476a12a9651077c",
       "version_major": 2,
       "version_minor": 0
      },
      "text/plain": [
       "  0%|          | 0/49 [00:00<?, ?it/s]"
      ]
     },
     "metadata": {},
     "output_type": "display_data"
    },
    {
     "name": "stdout",
     "output_type": "stream",
     "text": [
      "empty dataframe /mnt/e/data/conflab/release/sensors/raw/39/39_1571927258/1571927259_accel.csv between [2019-10-24 17:03:36.967634, 2019-10-24 17:19:13.967634]\n",
      "empty dataframe /mnt/e/data/conflab/release/sensors/raw/39/39_1571927258/1571927259_gyr.csv between [2019-10-24 17:03:36.967634, 2019-10-24 17:19:13.967634]\n",
      "empty dataframe /mnt/e/data/conflab/release/sensors/raw/39/39_1571927258/1571927259_mag.csv between [2019-10-24 17:03:36.967634, 2019-10-24 17:19:13.967634]\n",
      "empty dataframe /mnt/e/data/conflab/release/sensors/raw/39/39_1571927258/1571927259_proximity.csv between [2019-10-24 17:03:36.967634, 2019-10-24 17:19:13.967634]\n",
      "empty dataframe /mnt/e/data/conflab/release/sensors/raw/39/39_1571927258/1571927259_rotation.csv between [2019-10-24 17:03:36.967634, 2019-10-24 17:19:13.967634]\n"
     ]
    }
   ],
   "source": [
    "# load all midge data\n",
    "data = {}\n",
    "for midge_folder in tqdm(os.listdir(midge_raw_data_path)):\n",
    "    subpath = os.path.join(midge_raw_data_path, midge_folder)\n",
    "    midge_data = {}\n",
    "    has_data = False\n",
    "    for f in Path(subpath).rglob('*.csv'):\n",
    "        df = pd.read_csv(str(f))\n",
    "        \n",
    "        df['time'] = pd.to_datetime(df['time'])\n",
    "        df = df[(df['time'] > annotated_section_start) & (df['time'] <= (annotated_section_end+timedelta(seconds=10)))].reset_index()\n",
    "\n",
    "        if len(df) == 0:\n",
    "            print(f'empty dataframe {str(f)} between [{str(annotated_section_start)}, {str(annotated_section_end)}]')\n",
    "            continue\n",
    "        \n",
    "        # convert datetime to seconds\n",
    "        df['time'] = (df['time'] - df['time'][0]).dt.total_seconds()\n",
    "\n",
    "        if 'proximity.csv' in str(f):\n",
    "            k = 'prox'\n",
    "        elif 'accel.csv' in str(f):\n",
    "            k = 'accel'\n",
    "        elif 'gyr.csv' in str(f):\n",
    "            k = 'gyr'\n",
    "        elif 'mag.csv' in str(f):\n",
    "            k = 'mag'\n",
    "        elif 'rotation.csv' in str(f):\n",
    "            k = 'rot'\n",
    "        else:\n",
    "            pass\n",
    "        midge_data[k] = df\n",
    "        has_data = True\n",
    "\n",
    "    if has_data:\n",
    "        data[int(midge_folder)] = midge_data"
   ]
  },
  {
   "cell_type": "code",
   "execution_count": 6,
   "metadata": {},
   "outputs": [],
   "source": [
    "def interpolate(df: pd.DataFrame, columns, end_time=None, sr=50):\n",
    "    x = df['time'].to_numpy()\n",
    "    y = df[columns].to_numpy()\n",
    "\n",
    "    fn = interp1d(x, y, axis=0, kind='linear')\n",
    "\n",
    "    if end_time is None:\n",
    "        end_time = x[-1]\n",
    "    xnew = np.arange(x[0], end_time, 1/sr)\n",
    "\n",
    "    return pd.DataFrame(fn(xnew), columns=columns)"
   ]
  },
  {
   "cell_type": "markdown",
   "metadata": {},
   "source": [
    "## Plot interpolated sample"
   ]
  },
  {
   "cell_type": "code",
   "execution_count": 7,
   "metadata": {},
   "outputs": [],
   "source": [
    "sample = data[1]['accel'].copy()\n",
    "interpolated = interpolate(sample, ['time', 'X', 'Y', 'Z'])"
   ]
  },
  {
   "cell_type": "code",
   "execution_count": 8,
   "metadata": {},
   "outputs": [
    {
     "data": {
      "text/html": [
       "<div>\n",
       "<style scoped>\n",
       "    .dataframe tbody tr th:only-of-type {\n",
       "        vertical-align: middle;\n",
       "    }\n",
       "\n",
       "    .dataframe tbody tr th {\n",
       "        vertical-align: top;\n",
       "    }\n",
       "\n",
       "    .dataframe thead th {\n",
       "        text-align: right;\n",
       "    }\n",
       "</style>\n",
       "<table border=\"1\" class=\"dataframe\">\n",
       "  <thead>\n",
       "    <tr style=\"text-align: right;\">\n",
       "      <th></th>\n",
       "      <th>index</th>\n",
       "      <th>Unnamed: 0</th>\n",
       "      <th>time</th>\n",
       "      <th>X</th>\n",
       "      <th>Y</th>\n",
       "      <th>Z</th>\n",
       "    </tr>\n",
       "  </thead>\n",
       "  <tbody>\n",
       "    <tr>\n",
       "      <th>0</th>\n",
       "      <td>125725</td>\n",
       "      <td>125725</td>\n",
       "      <td>0.000</td>\n",
       "      <td>0.097168</td>\n",
       "      <td>-0.936035</td>\n",
       "      <td>0.341797</td>\n",
       "    </tr>\n",
       "    <tr>\n",
       "      <th>1</th>\n",
       "      <td>125726</td>\n",
       "      <td>125726</td>\n",
       "      <td>0.019</td>\n",
       "      <td>0.096680</td>\n",
       "      <td>-0.943359</td>\n",
       "      <td>0.360840</td>\n",
       "    </tr>\n",
       "    <tr>\n",
       "      <th>2</th>\n",
       "      <td>125727</td>\n",
       "      <td>125727</td>\n",
       "      <td>0.038</td>\n",
       "      <td>0.088379</td>\n",
       "      <td>-0.939941</td>\n",
       "      <td>0.350098</td>\n",
       "    </tr>\n",
       "    <tr>\n",
       "      <th>3</th>\n",
       "      <td>125728</td>\n",
       "      <td>125728</td>\n",
       "      <td>0.057</td>\n",
       "      <td>0.087891</td>\n",
       "      <td>-0.945801</td>\n",
       "      <td>0.347168</td>\n",
       "    </tr>\n",
       "    <tr>\n",
       "      <th>4</th>\n",
       "      <td>125729</td>\n",
       "      <td>125729</td>\n",
       "      <td>0.076</td>\n",
       "      <td>0.084961</td>\n",
       "      <td>-0.948730</td>\n",
       "      <td>0.344238</td>\n",
       "    </tr>\n",
       "  </tbody>\n",
       "</table>\n",
       "</div>"
      ],
      "text/plain": [
       "    index  Unnamed: 0   time         X         Y         Z\n",
       "0  125725      125725  0.000  0.097168 -0.936035  0.341797\n",
       "1  125726      125726  0.019  0.096680 -0.943359  0.360840\n",
       "2  125727      125727  0.038  0.088379 -0.939941  0.350098\n",
       "3  125728      125728  0.057  0.087891 -0.945801  0.347168\n",
       "4  125729      125729  0.076  0.084961 -0.948730  0.344238"
      ]
     },
     "execution_count": 8,
     "metadata": {},
     "output_type": "execute_result"
    }
   ],
   "source": [
    "sample.head(5)"
   ]
  },
  {
   "cell_type": "code",
   "execution_count": 9,
   "metadata": {},
   "outputs": [
    {
     "data": {
      "text/html": [
       "<div>\n",
       "<style scoped>\n",
       "    .dataframe tbody tr th:only-of-type {\n",
       "        vertical-align: middle;\n",
       "    }\n",
       "\n",
       "    .dataframe tbody tr th {\n",
       "        vertical-align: top;\n",
       "    }\n",
       "\n",
       "    .dataframe thead th {\n",
       "        text-align: right;\n",
       "    }\n",
       "</style>\n",
       "<table border=\"1\" class=\"dataframe\">\n",
       "  <thead>\n",
       "    <tr style=\"text-align: right;\">\n",
       "      <th></th>\n",
       "      <th>time</th>\n",
       "      <th>X</th>\n",
       "      <th>Y</th>\n",
       "      <th>Z</th>\n",
       "    </tr>\n",
       "  </thead>\n",
       "  <tbody>\n",
       "    <tr>\n",
       "      <th>0</th>\n",
       "      <td>0.00</td>\n",
       "      <td>0.097168</td>\n",
       "      <td>-0.936035</td>\n",
       "      <td>0.341797</td>\n",
       "    </tr>\n",
       "    <tr>\n",
       "      <th>1</th>\n",
       "      <td>0.02</td>\n",
       "      <td>0.096243</td>\n",
       "      <td>-0.943179</td>\n",
       "      <td>0.360274</td>\n",
       "    </tr>\n",
       "    <tr>\n",
       "      <th>2</th>\n",
       "      <td>0.04</td>\n",
       "      <td>0.088328</td>\n",
       "      <td>-0.940558</td>\n",
       "      <td>0.349789</td>\n",
       "    </tr>\n",
       "    <tr>\n",
       "      <th>3</th>\n",
       "      <td>0.06</td>\n",
       "      <td>0.087428</td>\n",
       "      <td>-0.946263</td>\n",
       "      <td>0.346705</td>\n",
       "    </tr>\n",
       "    <tr>\n",
       "      <th>4</th>\n",
       "      <td>0.08</td>\n",
       "      <td>0.086225</td>\n",
       "      <td>-0.955509</td>\n",
       "      <td>0.343894</td>\n",
       "    </tr>\n",
       "  </tbody>\n",
       "</table>\n",
       "</div>"
      ],
      "text/plain": [
       "   time         X         Y         Z\n",
       "0  0.00  0.097168 -0.936035  0.341797\n",
       "1  0.02  0.096243 -0.943179  0.360274\n",
       "2  0.04  0.088328 -0.940558  0.349789\n",
       "3  0.06  0.087428 -0.946263  0.346705\n",
       "4  0.08  0.086225 -0.955509  0.343894"
      ]
     },
     "execution_count": 9,
     "metadata": {},
     "output_type": "execute_result"
    }
   ],
   "source": [
    "interpolated.head(5)"
   ]
  },
  {
   "cell_type": "code",
   "execution_count": 10,
   "metadata": {},
   "outputs": [
    {
     "data": {
      "text/plain": [
       "<AxesSubplot:xlabel='time'>"
      ]
     },
     "execution_count": 10,
     "metadata": {},
     "output_type": "execute_result"
    },
    {
     "data": {
      "image/png": "[encoded data removed]",
      "text/plain": [
       "<Figure size 432x288 with 1 Axes>"
      ]
     },
     "metadata": {
      "needs_background": "light"
     },
     "output_type": "display_data"
    }
   ],
   "source": [
    "ax = sample[(sample['time'] >= 100) & (sample['time'] < 102)].plot(x='time', y='X')\n",
    "interpolated[(interpolated['time'] >= 100) & (interpolated['time'] < 102)].plot(x='time', y='X', ax=ax)"
   ]
  },
  {
   "cell_type": "markdown",
   "metadata": {},
   "source": [
    "# Interpolate and save"
   ]
  },
  {
   "cell_type": "code",
   "execution_count": 14,
   "metadata": {},
   "outputs": [
    {
     "data": {
      "application/vnd.jupyter.widget-view+json": {
       "model_id": "bce54e9d7fef45818ca7cdfe394d84cf",
       "version_major": 2,
       "version_minor": 0
      },
      "text/plain": [
       "  0%|          | 0/48 [00:00<?, ?it/s]"
      ]
     },
     "metadata": {},
     "output_type": "display_data"
    }
   ],
   "source": [
    "for pid, person_data in tqdm(data.items()):\n",
    "\n",
    "    end_time = annotated_section_len.total_seconds() #person_data['accel']['time'].iloc[-1]\n",
    "\n",
    "    accel = interpolate(person_data['accel'], ['time', 'X', 'Y', 'Z'], end_time)\n",
    "    gyr = interpolate(person_data['gyr'], ['time', 'X', 'Y', 'Z'], end_time)\n",
    "    mag = interpolate(person_data['mag'], ['time', 'X', 'Y', 'Z'], end_time)\n",
    "    rot = interpolate(person_data['rot'], ['time', 'a', 'b', 'c', 'd'], end_time)\n",
    "    prox = interpolate(person_data['prox'], ['time', 'rssi'], end_time)\n",
    "\n",
    "    joint = pd.concat([accel.iloc[:, :], gyr.iloc[:, 1:], mag.iloc[:, 1:], rot.iloc[:, 1:], prox.iloc[:, 1:]], axis=1)\n",
    "    joint.columns=[\n",
    "        'time',\n",
    "        'accelX', 'accelY', 'accelZ',\n",
    "        'gyrX', 'gyrY', 'gyrZ',\n",
    "        'magX', 'magY', 'magZ',\n",
    "        'rotA', 'rotB', 'rotC', 'rotD',\n",
    "        'rssi'\n",
    "    ]\n",
    "    joint.to_csv(os.path.join(midge_data_path, f'{pid}.csv'), index=False)"
   ]
  },
  {
   "cell_type": "code",
   "execution_count": null,
   "metadata": {},
   "outputs": [],
   "source": []
  }
 ],
 "metadata": {
  "interpreter": {
   "hash": "7ff63645dd16f55240e07095d3c46f4fac3f89ef16802cfaceca713f6cf38dfb"
  },
  "kernelspec": {
   "display_name": "Python 3.8.13 ('base')",
   "language": "python",
   "name": "python3"
  },
  "language_info": {
   "codemirror_mode": {
    "name": "ipython",
    "version": 3
   },
   "file_extension": ".py",
   "mimetype": "text/x-python",
   "name": "python",
   "nbconvert_exporter": "python",
   "pygments_lexer": "ipython3",
   "version": "3.8.13"
  },
  "orig_nbformat": 4
 },
 "nbformat": 4,
 "nbformat_minor": 2
}
